{
 "cells": [
  {
   "cell_type": "markdown",
   "metadata": {},
   "source": [
    "## Lets Import all the Relevant libraries"
   ]
  },
  {
   "cell_type": "code",
   "execution_count": 1,
   "metadata": {},
   "outputs": [],
   "source": [
    "import pandas as pd\n",
    "import matplotlib"
   ]
  },
  {
   "cell_type": "markdown",
   "metadata": {},
   "source": [
    "### Set the Data Location to a variable"
   ]
  },
  {
   "cell_type": "code",
   "execution_count": 2,
   "metadata": {},
   "outputs": [],
   "source": [
    "RAW_DATA = \"../data/raw/\""
   ]
  },
  {
   "cell_type": "markdown",
   "metadata": {},
   "source": [
    "# Initial Analysis\n",
    "\n",
    "### Read the dataset into a pandas dataframe for further analysis"
   ]
  },
  {
   "cell_type": "code",
   "execution_count": 3,
   "metadata": {},
   "outputs": [
    {
     "data": {
      "text/html": [
       "<div>\n",
       "<style scoped>\n",
       "    .dataframe tbody tr th:only-of-type {\n",
       "        vertical-align: middle;\n",
       "    }\n",
       "\n",
       "    .dataframe tbody tr th {\n",
       "        vertical-align: top;\n",
       "    }\n",
       "\n",
       "    .dataframe thead th {\n",
       "        text-align: right;\n",
       "    }\n",
       "</style>\n",
       "<table border=\"1\" class=\"dataframe\">\n",
       "  <thead>\n",
       "    <tr style=\"text-align: right;\">\n",
       "      <th></th>\n",
       "      <th>timestamp</th>\n",
       "      <th>country_code</th>\n",
       "      <th>last_order_ts</th>\n",
       "      <th>first_order_ts</th>\n",
       "      <th>total_orders</th>\n",
       "      <th>voucher_amount</th>\n",
       "    </tr>\n",
       "  </thead>\n",
       "  <tbody>\n",
       "    <tr>\n",
       "      <th>0</th>\n",
       "      <td>2020-05-20 15:43:38.364972+00:00</td>\n",
       "      <td>China</td>\n",
       "      <td>2020-04-19 00:00:00+00:00</td>\n",
       "      <td>2020-04-18 00:00:00+00:00</td>\n",
       "      <td>0.0</td>\n",
       "      <td>5720.0</td>\n",
       "    </tr>\n",
       "    <tr>\n",
       "      <th>1</th>\n",
       "      <td>2020-05-20 15:43:47.914346+00:00</td>\n",
       "      <td>China</td>\n",
       "      <td>2020-04-19 00:00:00+00:00</td>\n",
       "      <td>2020-04-13 00:00:00+00:00</td>\n",
       "      <td>1.0</td>\n",
       "      <td>8800.0</td>\n",
       "    </tr>\n",
       "    <tr>\n",
       "      <th>2</th>\n",
       "      <td>2020-05-20 15:36:56.866239+00:00</td>\n",
       "      <td>China</td>\n",
       "      <td>2020-04-19 00:00:00+00:00</td>\n",
       "      <td>2020-04-15 00:00:00+00:00</td>\n",
       "      <td>0.0</td>\n",
       "      <td>1760.0</td>\n",
       "    </tr>\n",
       "    <tr>\n",
       "      <th>3</th>\n",
       "      <td>2020-05-20 15:00:33.694108+00:00</td>\n",
       "      <td>China</td>\n",
       "      <td>2020-04-19 00:00:00+00:00</td>\n",
       "      <td>2020-04-13 00:00:00+00:00</td>\n",
       "      <td></td>\n",
       "      <td>1760.0</td>\n",
       "    </tr>\n",
       "    <tr>\n",
       "      <th>4</th>\n",
       "      <td>2020-05-20 15:43:18.521402+00:00</td>\n",
       "      <td>China</td>\n",
       "      <td>2020-04-19 00:00:00+00:00</td>\n",
       "      <td>2020-04-14 00:00:00+00:00</td>\n",
       "      <td>3.0</td>\n",
       "      <td>8800.0</td>\n",
       "    </tr>\n",
       "  </tbody>\n",
       "</table>\n",
       "</div>"
      ],
      "text/plain": [
       "                          timestamp country_code              last_order_ts  \\\n",
       "0  2020-05-20 15:43:38.364972+00:00        China  2020-04-19 00:00:00+00:00   \n",
       "1  2020-05-20 15:43:47.914346+00:00        China  2020-04-19 00:00:00+00:00   \n",
       "2  2020-05-20 15:36:56.866239+00:00        China  2020-04-19 00:00:00+00:00   \n",
       "3  2020-05-20 15:00:33.694108+00:00        China  2020-04-19 00:00:00+00:00   \n",
       "4  2020-05-20 15:43:18.521402+00:00        China  2020-04-19 00:00:00+00:00   \n",
       "\n",
       "             first_order_ts total_orders  voucher_amount  \n",
       "0 2020-04-18 00:00:00+00:00          0.0          5720.0  \n",
       "1 2020-04-13 00:00:00+00:00          1.0          8800.0  \n",
       "2 2020-04-15 00:00:00+00:00          0.0          1760.0  \n",
       "3 2020-04-13 00:00:00+00:00                       1760.0  \n",
       "4 2020-04-14 00:00:00+00:00          3.0          8800.0  "
      ]
     },
     "execution_count": 3,
     "metadata": {},
     "output_type": "execute_result"
    }
   ],
   "source": [
    "raw_df = pd.read_parquet(F\"{RAW_DATA}/data.parquet.gzip\", engine=\"fastparquet\")\n",
    "raw_df.head()"
   ]
  },
  {
   "cell_type": "markdown",
   "metadata": {},
   "source": [
    "### Lets check some info into our dataset to get a better idea"
   ]
  },
  {
   "cell_type": "code",
   "execution_count": 4,
   "metadata": {},
   "outputs": [
    {
     "data": {
      "text/plain": [
       "(511427, 6)"
      ]
     },
     "execution_count": 4,
     "metadata": {},
     "output_type": "execute_result"
    }
   ],
   "source": [
    "# Check the shape of the dataset we are dealing with\n",
    "\n",
    "raw_df.shape"
   ]
  },
  {
   "cell_type": "markdown",
   "metadata": {},
   "source": [
    "So we have `511427` records with `6` columns "
   ]
  },
  {
   "cell_type": "code",
   "execution_count": 5,
   "metadata": {},
   "outputs": [
    {
     "name": "stdout",
     "output_type": "stream",
     "text": [
      "<class 'pandas.core.frame.DataFrame'>\n",
      "RangeIndex: 511427 entries, 0 to 511426\n",
      "Data columns (total 6 columns):\n",
      " #   Column          Non-Null Count   Dtype              \n",
      "---  ------          --------------   -----              \n",
      " 0   timestamp       511427 non-null  object             \n",
      " 1   country_code    511427 non-null  object             \n",
      " 2   last_order_ts   511427 non-null  object             \n",
      " 3   first_order_ts  511427 non-null  datetime64[ns, UTC]\n",
      " 4   total_orders    511427 non-null  object             \n",
      " 5   voucher_amount  481860 non-null  float64            \n",
      "dtypes: datetime64[ns, UTC](1), float64(1), object(4)\n",
      "memory usage: 23.4+ MB\n"
     ]
    }
   ],
   "source": [
    "raw_df.info()"
   ]
  },
  {
   "cell_type": "markdown",
   "metadata": {},
   "source": [
    "**As we can see above most of the fields are object types, with only `first_order_ts` as datetime and voucher_amount as `float`**.\n",
    "1) We would require to convert `last_order_ts` and `timestamp` fields to `datetime` type\n",
    "2) Standardize the `datetime` format for consistency accross the dataset\n",
    "3) There seems to be some issue with `voucher_amount` fields as the `non-null` count in this field seems to be lesser than others. Will need to check that"
   ]
  },
  {
   "cell_type": "markdown",
   "metadata": {},
   "source": [
    "### Lets get an idea of the country wise distribution to get an idea"
   ]
  },
  {
   "cell_type": "code",
   "execution_count": 6,
   "metadata": {},
   "outputs": [
    {
     "data": {
      "text/plain": [
       "China        169722\n",
       "Australia    134004\n",
       "Peru         106547\n",
       "Latvia       101154\n",
       "Name: country_code, dtype: int64"
      ]
     },
     "execution_count": 6,
     "metadata": {},
     "output_type": "execute_result"
    }
   ],
   "source": [
    "raw_df['country_code'].value_counts()"
   ]
  },
  {
   "cell_type": "code",
   "execution_count": 7,
   "metadata": {},
   "outputs": [
    {
     "data": {
      "text/plain": [
       "<AxesSubplot:>"
      ]
     },
     "execution_count": 7,
     "metadata": {},
     "output_type": "execute_result"
    },
    {
     "data": {
      "image/png": "[encoded data removed]",
      "text/plain": [
       "<Figure size 432x288 with 1 Axes>"
      ]
     },
     "metadata": {
      "needs_background": "light"
     },
     "output_type": "display_data"
    }
   ],
   "source": [
    "raw_df[\"country_code\"].value_counts().plot(kind=\"bar\")"
   ]
  },
  {
   "cell_type": "markdown",
   "metadata": {},
   "source": [
    "As seen above, we have substantial amount of data for `China`, `Australia` and `Latvia`. Since we are only interested in `Peru`, it is always a good idea to filter the datasets for `Peru` on data processing.  But for now lets analyze and clean the entire dataset"
   ]
  },
  {
   "cell_type": "markdown",
   "metadata": {},
   "source": [
    "## Data Cleaning\n",
    "\n",
    "In this step, we will perform following activities:\n",
    "* Deal with `NaN` and `missing` values in the dataset. Especially we need to check the `voucher_amount` column as it seems to have some sort of issue.\n",
    "* Convert timestamp field types from `Object` to `Timestamp`.\n",
    "* Standardize the `Timestamp` format in all the fields.\n",
    "* Deduplicate Records\n",
    "* Check logically invalid records (`last_order_ts` should be greater than or equal to `first_order_ts`)\n"
   ]
  },
  {
   "cell_type": "markdown",
   "metadata": {},
   "source": [
    "### Missing and NaN values \n",
    "\n",
    "Lets first check if for all fields if we have any `None` or empty string values `''` "
   ]
  },
  {
   "cell_type": "code",
   "execution_count": 8,
   "metadata": {},
   "outputs": [
    {
     "data": {
      "text/plain": [
       "timestamp             0\n",
       "country_code          0\n",
       "last_order_ts         0\n",
       "first_order_ts        0\n",
       "total_orders      40914\n",
       "voucher_amount        0\n",
       "dtype: int64"
      ]
     },
     "execution_count": 8,
     "metadata": {},
     "output_type": "execute_result"
    }
   ],
   "source": [
    "raw_df.apply(lambda x: (x is None) or (x == '')).sum()"
   ]
  },
  {
   "cell_type": "markdown",
   "metadata": {},
   "source": [
    "Except for `total_orders` all other fields doesnt seem to have any `None` or empty string values in them. So lets proceed with data cleaning and type conversions"
   ]
  },
  {
   "cell_type": "markdown",
   "metadata": {},
   "source": [
    "Lets start with Timestamp fields"
   ]
  },
  {
   "cell_type": "code",
   "execution_count": 9,
   "metadata": {},
   "outputs": [
    {
     "data": {
      "text/plain": [
       "timestamp             0\n",
       "country_code          0\n",
       "last_order_ts         0\n",
       "first_order_ts        0\n",
       "total_orders      40914\n",
       "voucher_amount        0\n",
       "dtype: int64"
      ]
     },
     "execution_count": 9,
     "metadata": {},
     "output_type": "execute_result"
    }
   ],
   "source": [
    "# raw_df[raw_df[\"last_order_ts\"].isna()].count()\n",
    "raw_df.apply(lambda x: (x is None) or (x == '')).sum()"
   ]
  },
  {
   "cell_type": "code",
   "execution_count": 10,
   "metadata": {},
   "outputs": [
    {
     "data": {
      "text/plain": [
       "timestamp         0\n",
       "country_code      0\n",
       "last_order_ts     0\n",
       "first_order_ts    0\n",
       "total_orders      0\n",
       "voucher_amount    0\n",
       "dtype: int64"
      ]
     },
     "execution_count": 10,
     "metadata": {},
     "output_type": "execute_result"
    }
   ],
   "source": [
    "raw_df[raw_df[\"timestamp\"].isna()].count()"
   ]
  },
  {
   "cell_type": "code",
   "execution_count": 11,
   "metadata": {},
   "outputs": [
    {
     "data": {
      "text/plain": [
       "timestamp         0\n",
       "country_code      0\n",
       "last_order_ts     0\n",
       "first_order_ts    0\n",
       "total_orders      0\n",
       "voucher_amount    0\n",
       "dtype: int64"
      ]
     },
     "execution_count": 11,
     "metadata": {},
     "output_type": "execute_result"
    }
   ],
   "source": [
    "raw_df[raw_df[\"first_order_ts\"].isna()].count()"
   ]
  },
  {
   "cell_type": "markdown",
   "metadata": {},
   "source": [
    "As checked above, its now safe to convert the Object types to Timestamp as none of the timestamp fields have missing values"
   ]
  },
  {
   "cell_type": "code",
   "execution_count": 12,
   "metadata": {},
   "outputs": [],
   "source": [
    "timestamp_fields = ['timestamp', 'first_order_ts', 'last_order_ts']\n",
    "\n",
    "for field in timestamp_fields:\n",
    "    raw_df[field] = pd.to_datetime(raw_df[field])"
   ]
  },
  {
   "cell_type": "code",
   "execution_count": 13,
   "metadata": {},
   "outputs": [
    {
     "name": "stdout",
     "output_type": "stream",
     "text": [
      "<class 'pandas.core.frame.DataFrame'>\n",
      "RangeIndex: 511427 entries, 0 to 511426\n",
      "Data columns (total 6 columns):\n",
      " #   Column          Non-Null Count   Dtype              \n",
      "---  ------          --------------   -----              \n",
      " 0   timestamp       511427 non-null  datetime64[ns, UTC]\n",
      " 1   country_code    511427 non-null  object             \n",
      " 2   last_order_ts   511427 non-null  datetime64[ns, UTC]\n",
      " 3   first_order_ts  511427 non-null  datetime64[ns, UTC]\n",
      " 4   total_orders    511427 non-null  object             \n",
      " 5   voucher_amount  481860 non-null  float64            \n",
      "dtypes: datetime64[ns, UTC](3), float64(1), object(2)\n",
      "memory usage: 23.4+ MB\n"
     ]
    }
   ],
   "source": [
    "raw_df.info()"
   ]
  },
  {
   "cell_type": "markdown",
   "metadata": {},
   "source": [
    "Now Lets look at `country_code` and `total_orders`\n",
    "\n",
    "Total orders seems to be an `integer` field as `float` doesnt make sense for an order count and hence we will convert the missing values with `0` and convert it to `int` type\n",
    "\n",
    "As we saw earlier, `total_order` field had some invalid data in them as `None` or `''`. So replace them with `0.0` first as I was unable to directly cast this field to `int` type. So we will first convert them to `float` and then to `int`"
   ]
  },
  {
   "cell_type": "code",
   "execution_count": 14,
   "metadata": {},
   "outputs": [
    {
     "data": {
      "text/plain": [
       "timestamp         0\n",
       "country_code      0\n",
       "last_order_ts     0\n",
       "first_order_ts    0\n",
       "total_orders      0\n",
       "voucher_amount    0\n",
       "dtype: int64"
      ]
     },
     "execution_count": 14,
     "metadata": {},
     "output_type": "execute_result"
    }
   ],
   "source": [
    "raw_df[raw_df[\"country_code\"].isna()].count()\n",
    "\n",
    "# Country code seems to be clean"
   ]
  },
  {
   "cell_type": "code",
   "execution_count": 15,
   "metadata": {},
   "outputs": [
    {
     "data": {
      "text/plain": [
       "timestamp         0\n",
       "country_code      0\n",
       "last_order_ts     0\n",
       "first_order_ts    0\n",
       "total_orders      0\n",
       "voucher_amount    0\n",
       "dtype: int64"
      ]
     },
     "execution_count": 15,
     "metadata": {},
     "output_type": "execute_result"
    }
   ],
   "source": [
    "# Before conversion we need to check for NaN as well\n",
    "\n",
    "raw_df[raw_df[\"total_orders\"].isna()].count()"
   ]
  },
  {
   "cell_type": "markdown",
   "metadata": {},
   "source": [
    "Lets convert to integer and replace all empty strings to default of `0`"
   ]
  },
  {
   "cell_type": "code",
   "execution_count": 16,
   "metadata": {},
   "outputs": [
    {
     "data": {
      "text/plain": [
       "timestamp         511427\n",
       "country_code      511427\n",
       "last_order_ts     511427\n",
       "first_order_ts    511427\n",
       "total_orders      511427\n",
       "voucher_amount    481860\n",
       "dtype: int64"
      ]
     },
     "execution_count": 16,
     "metadata": {},
     "output_type": "execute_result"
    }
   ],
   "source": [
    "#First lets check if we are able to convert the float to integer without any data rounding issues etc\n",
    "\n",
    "is_float = raw_df['total_orders'].apply(lambda x: float(x or '0.0').is_integer())\n",
    "\n",
    "raw_df[is_float].count()\n",
    "\n",
    "#There seems to be no data loss issues "
   ]
  },
  {
   "cell_type": "code",
   "execution_count": 17,
   "metadata": {},
   "outputs": [
    {
     "data": {
      "text/plain": [
       "timestamp         511427\n",
       "country_code      511427\n",
       "last_order_ts     511427\n",
       "first_order_ts    511427\n",
       "total_orders      511427\n",
       "voucher_amount    481860\n",
       "dtype: int64"
      ]
     },
     "execution_count": 17,
     "metadata": {},
     "output_type": "execute_result"
    }
   ],
   "source": [
    "# So we dont have any data issues on conversion from float to int. So we proceed with this\n",
    "\n",
    "raw_df['total_orders'] = raw_df['total_orders'].apply(lambda x: int(float(x or '0.0')))\n",
    "raw_df.count()\n",
    "\n"
   ]
  },
  {
   "cell_type": "code",
   "execution_count": 18,
   "metadata": {},
   "outputs": [
    {
     "name": "stdout",
     "output_type": "stream",
     "text": [
      "<class 'pandas.core.frame.DataFrame'>\n",
      "RangeIndex: 511427 entries, 0 to 511426\n",
      "Data columns (total 6 columns):\n",
      " #   Column          Non-Null Count   Dtype              \n",
      "---  ------          --------------   -----              \n",
      " 0   timestamp       511427 non-null  datetime64[ns, UTC]\n",
      " 1   country_code    511427 non-null  object             \n",
      " 2   last_order_ts   511427 non-null  datetime64[ns, UTC]\n",
      " 3   first_order_ts  511427 non-null  datetime64[ns, UTC]\n",
      " 4   total_orders    511427 non-null  int64              \n",
      " 5   voucher_amount  481860 non-null  float64            \n",
      "dtypes: datetime64[ns, UTC](3), float64(1), int64(1), object(1)\n",
      "memory usage: 23.4+ MB\n"
     ]
    }
   ],
   "source": [
    "raw_df.info()"
   ]
  },
  {
   "cell_type": "markdown",
   "metadata": {},
   "source": [
    "Lets now check the `voucher_amount` field discrepency "
   ]
  },
  {
   "cell_type": "code",
   "execution_count": 19,
   "metadata": {},
   "outputs": [
    {
     "data": {
      "text/plain": [
       "timestamp         29567\n",
       "country_code      29567\n",
       "last_order_ts     29567\n",
       "first_order_ts    29567\n",
       "total_orders      29567\n",
       "voucher_amount        0\n",
       "dtype: int64"
      ]
     },
     "execution_count": 19,
     "metadata": {},
     "output_type": "execute_result"
    }
   ],
   "source": [
    "#Check for Nan or missing values\n",
    "\n",
    "raw_df[raw_df[\"voucher_amount\"].isna()].count()"
   ]
  },
  {
   "cell_type": "markdown",
   "metadata": {},
   "source": [
    "Above check clearly justifies the difference of `29567`. So lets replace it with default 0 "
   ]
  },
  {
   "cell_type": "code",
   "execution_count": 20,
   "metadata": {},
   "outputs": [
    {
     "data": {
      "text/html": [
       "<div>\n",
       "<style scoped>\n",
       "    .dataframe tbody tr th:only-of-type {\n",
       "        vertical-align: middle;\n",
       "    }\n",
       "\n",
       "    .dataframe tbody tr th {\n",
       "        vertical-align: top;\n",
       "    }\n",
       "\n",
       "    .dataframe thead th {\n",
       "        text-align: right;\n",
       "    }\n",
       "</style>\n",
       "<table border=\"1\" class=\"dataframe\">\n",
       "  <thead>\n",
       "    <tr style=\"text-align: right;\">\n",
       "      <th></th>\n",
       "      <th>timestamp</th>\n",
       "      <th>country_code</th>\n",
       "      <th>last_order_ts</th>\n",
       "      <th>first_order_ts</th>\n",
       "      <th>total_orders</th>\n",
       "      <th>voucher_amount</th>\n",
       "    </tr>\n",
       "  </thead>\n",
       "  <tbody>\n",
       "    <tr>\n",
       "      <th>0</th>\n",
       "      <td>2020-05-20 15:43:38.364972+00:00</td>\n",
       "      <td>China</td>\n",
       "      <td>2020-04-19 00:00:00+00:00</td>\n",
       "      <td>2020-04-18 00:00:00+00:00</td>\n",
       "      <td>0</td>\n",
       "      <td>5720.0</td>\n",
       "    </tr>\n",
       "    <tr>\n",
       "      <th>1</th>\n",
       "      <td>2020-05-20 15:43:47.914346+00:00</td>\n",
       "      <td>China</td>\n",
       "      <td>2020-04-19 00:00:00+00:00</td>\n",
       "      <td>2020-04-13 00:00:00+00:00</td>\n",
       "      <td>1</td>\n",
       "      <td>8800.0</td>\n",
       "    </tr>\n",
       "    <tr>\n",
       "      <th>2</th>\n",
       "      <td>2020-05-20 15:36:56.866239+00:00</td>\n",
       "      <td>China</td>\n",
       "      <td>2020-04-19 00:00:00+00:00</td>\n",
       "      <td>2020-04-15 00:00:00+00:00</td>\n",
       "      <td>0</td>\n",
       "      <td>1760.0</td>\n",
       "    </tr>\n",
       "    <tr>\n",
       "      <th>3</th>\n",
       "      <td>2020-05-20 15:00:33.694108+00:00</td>\n",
       "      <td>China</td>\n",
       "      <td>2020-04-19 00:00:00+00:00</td>\n",
       "      <td>2020-04-13 00:00:00+00:00</td>\n",
       "      <td>0</td>\n",
       "      <td>1760.0</td>\n",
       "    </tr>\n",
       "    <tr>\n",
       "      <th>4</th>\n",
       "      <td>2020-05-20 15:43:18.521402+00:00</td>\n",
       "      <td>China</td>\n",
       "      <td>2020-04-19 00:00:00+00:00</td>\n",
       "      <td>2020-04-14 00:00:00+00:00</td>\n",
       "      <td>3</td>\n",
       "      <td>8800.0</td>\n",
       "    </tr>\n",
       "  </tbody>\n",
       "</table>\n",
       "</div>"
      ],
      "text/plain": [
       "                         timestamp country_code             last_order_ts  \\\n",
       "0 2020-05-20 15:43:38.364972+00:00        China 2020-04-19 00:00:00+00:00   \n",
       "1 2020-05-20 15:43:47.914346+00:00        China 2020-04-19 00:00:00+00:00   \n",
       "2 2020-05-20 15:36:56.866239+00:00        China 2020-04-19 00:00:00+00:00   \n",
       "3 2020-05-20 15:00:33.694108+00:00        China 2020-04-19 00:00:00+00:00   \n",
       "4 2020-05-20 15:43:18.521402+00:00        China 2020-04-19 00:00:00+00:00   \n",
       "\n",
       "             first_order_ts  total_orders  voucher_amount  \n",
       "0 2020-04-18 00:00:00+00:00             0          5720.0  \n",
       "1 2020-04-13 00:00:00+00:00             1          8800.0  \n",
       "2 2020-04-15 00:00:00+00:00             0          1760.0  \n",
       "3 2020-04-13 00:00:00+00:00             0          1760.0  \n",
       "4 2020-04-14 00:00:00+00:00             3          8800.0  "
      ]
     },
     "metadata": {},
     "output_type": "display_data"
    }
   ],
   "source": [
    "raw_df[\"voucher_amount\"] = raw_df[\"voucher_amount\"].fillna(0)\n",
    "display(raw_df.head())"
   ]
  },
  {
   "cell_type": "code",
   "execution_count": 21,
   "metadata": {},
   "outputs": [
    {
     "name": "stdout",
     "output_type": "stream",
     "text": [
      "<class 'pandas.core.frame.DataFrame'>\n",
      "RangeIndex: 511427 entries, 0 to 511426\n",
      "Data columns (total 6 columns):\n",
      " #   Column          Non-Null Count   Dtype              \n",
      "---  ------          --------------   -----              \n",
      " 0   timestamp       511427 non-null  datetime64[ns, UTC]\n",
      " 1   country_code    511427 non-null  object             \n",
      " 2   last_order_ts   511427 non-null  datetime64[ns, UTC]\n",
      " 3   first_order_ts  511427 non-null  datetime64[ns, UTC]\n",
      " 4   total_orders    511427 non-null  int64              \n",
      " 5   voucher_amount  511427 non-null  float64            \n",
      "dtypes: datetime64[ns, UTC](3), float64(1), int64(1), object(1)\n",
      "memory usage: 23.4+ MB\n"
     ]
    }
   ],
   "source": [
    "raw_df.info()"
   ]
  },
  {
   "cell_type": "markdown",
   "metadata": {},
   "source": [
    "Now it seems to be converted properly to appropriate data types, without any data loss"
   ]
  },
  {
   "cell_type": "markdown",
   "metadata": {},
   "source": [
    "Lets try to convert `voucher_amount` field to integer if possible, as float values can result in issues with precision values a lot of times"
   ]
  },
  {
   "cell_type": "code",
   "execution_count": 22,
   "metadata": {},
   "outputs": [
    {
     "data": {
      "text/plain": [
       "timestamp         511427\n",
       "country_code      511427\n",
       "last_order_ts     511427\n",
       "first_order_ts    511427\n",
       "total_orders      511427\n",
       "voucher_amount    511427\n",
       "dtype: int64"
      ]
     },
     "execution_count": 22,
     "metadata": {},
     "output_type": "execute_result"
    }
   ],
   "source": [
    "#First lets check if we are able to convert the float to integer without any data rounding issues etc\n",
    "\n",
    "is_float = raw_df['voucher_amount'].apply(lambda x: float(x or '0.0').is_integer())\n",
    "\n",
    "raw_df[is_float].count()"
   ]
  },
  {
   "cell_type": "code",
   "execution_count": 23,
   "metadata": {},
   "outputs": [
    {
     "data": {
      "text/html": [
       "<div>\n",
       "<style scoped>\n",
       "    .dataframe tbody tr th:only-of-type {\n",
       "        vertical-align: middle;\n",
       "    }\n",
       "\n",
       "    .dataframe tbody tr th {\n",
       "        vertical-align: top;\n",
       "    }\n",
       "\n",
       "    .dataframe thead th {\n",
       "        text-align: right;\n",
       "    }\n",
       "</style>\n",
       "<table border=\"1\" class=\"dataframe\">\n",
       "  <thead>\n",
       "    <tr style=\"text-align: right;\">\n",
       "      <th></th>\n",
       "      <th>timestamp</th>\n",
       "      <th>country_code</th>\n",
       "      <th>last_order_ts</th>\n",
       "      <th>first_order_ts</th>\n",
       "      <th>total_orders</th>\n",
       "      <th>voucher_amount</th>\n",
       "    </tr>\n",
       "  </thead>\n",
       "  <tbody>\n",
       "    <tr>\n",
       "      <th>0</th>\n",
       "      <td>2020-05-20 15:43:38.364972+00:00</td>\n",
       "      <td>China</td>\n",
       "      <td>2020-04-19 00:00:00+00:00</td>\n",
       "      <td>2020-04-18 00:00:00+00:00</td>\n",
       "      <td>0</td>\n",
       "      <td>5720</td>\n",
       "    </tr>\n",
       "    <tr>\n",
       "      <th>1</th>\n",
       "      <td>2020-05-20 15:43:47.914346+00:00</td>\n",
       "      <td>China</td>\n",
       "      <td>2020-04-19 00:00:00+00:00</td>\n",
       "      <td>2020-04-13 00:00:00+00:00</td>\n",
       "      <td>1</td>\n",
       "      <td>8800</td>\n",
       "    </tr>\n",
       "    <tr>\n",
       "      <th>2</th>\n",
       "      <td>2020-05-20 15:36:56.866239+00:00</td>\n",
       "      <td>China</td>\n",
       "      <td>2020-04-19 00:00:00+00:00</td>\n",
       "      <td>2020-04-15 00:00:00+00:00</td>\n",
       "      <td>0</td>\n",
       "      <td>1760</td>\n",
       "    </tr>\n",
       "    <tr>\n",
       "      <th>3</th>\n",
       "      <td>2020-05-20 15:00:33.694108+00:00</td>\n",
       "      <td>China</td>\n",
       "      <td>2020-04-19 00:00:00+00:00</td>\n",
       "      <td>2020-04-13 00:00:00+00:00</td>\n",
       "      <td>0</td>\n",
       "      <td>1760</td>\n",
       "    </tr>\n",
       "    <tr>\n",
       "      <th>4</th>\n",
       "      <td>2020-05-20 15:43:18.521402+00:00</td>\n",
       "      <td>China</td>\n",
       "      <td>2020-04-19 00:00:00+00:00</td>\n",
       "      <td>2020-04-14 00:00:00+00:00</td>\n",
       "      <td>3</td>\n",
       "      <td>8800</td>\n",
       "    </tr>\n",
       "    <tr>\n",
       "      <th>...</th>\n",
       "      <td>...</td>\n",
       "      <td>...</td>\n",
       "      <td>...</td>\n",
       "      <td>...</td>\n",
       "      <td>...</td>\n",
       "      <td>...</td>\n",
       "    </tr>\n",
       "    <tr>\n",
       "      <th>511422</th>\n",
       "      <td>2020-04-03 18:31:36.635072+00:00</td>\n",
       "      <td>Latvia</td>\n",
       "      <td>2020-01-04 00:00:00+00:00</td>\n",
       "      <td>2019-10-30 00:00:00+00:00</td>\n",
       "      <td>27</td>\n",
       "      <td>4400</td>\n",
       "    </tr>\n",
       "    <tr>\n",
       "      <th>511423</th>\n",
       "      <td>2020-04-03 18:33:32.365196+00:00</td>\n",
       "      <td>Latvia</td>\n",
       "      <td>2020-01-04 00:00:00+00:00</td>\n",
       "      <td>2019-08-29 00:00:00+00:00</td>\n",
       "      <td>10</td>\n",
       "      <td>4400</td>\n",
       "    </tr>\n",
       "    <tr>\n",
       "      <th>511424</th>\n",
       "      <td>2020-04-03 19:23:07.711424+00:00</td>\n",
       "      <td>Peru</td>\n",
       "      <td>2020-01-04 00:00:00+00:00</td>\n",
       "      <td>2019-10-14 00:00:00+00:00</td>\n",
       "      <td>47</td>\n",
       "      <td>4400</td>\n",
       "    </tr>\n",
       "    <tr>\n",
       "      <th>511425</th>\n",
       "      <td>2020-04-03 19:19:06.162203+00:00</td>\n",
       "      <td>Australia</td>\n",
       "      <td>2020-01-04 00:00:00+00:00</td>\n",
       "      <td>2019-09-24 00:00:00+00:00</td>\n",
       "      <td>2</td>\n",
       "      <td>11000</td>\n",
       "    </tr>\n",
       "    <tr>\n",
       "      <th>511426</th>\n",
       "      <td>2020-04-03 19:23:30.054641+00:00</td>\n",
       "      <td>Australia</td>\n",
       "      <td>2020-01-04 00:00:00+00:00</td>\n",
       "      <td>2019-09-16 00:00:00+00:00</td>\n",
       "      <td>2</td>\n",
       "      <td>11000</td>\n",
       "    </tr>\n",
       "  </tbody>\n",
       "</table>\n",
       "<p>511427 rows × 6 columns</p>\n",
       "</div>"
      ],
      "text/plain": [
       "                              timestamp country_code  \\\n",
       "0      2020-05-20 15:43:38.364972+00:00        China   \n",
       "1      2020-05-20 15:43:47.914346+00:00        China   \n",
       "2      2020-05-20 15:36:56.866239+00:00        China   \n",
       "3      2020-05-20 15:00:33.694108+00:00        China   \n",
       "4      2020-05-20 15:43:18.521402+00:00        China   \n",
       "...                                 ...          ...   \n",
       "511422 2020-04-03 18:31:36.635072+00:00       Latvia   \n",
       "511423 2020-04-03 18:33:32.365196+00:00       Latvia   \n",
       "511424 2020-04-03 19:23:07.711424+00:00         Peru   \n",
       "511425 2020-04-03 19:19:06.162203+00:00    Australia   \n",
       "511426 2020-04-03 19:23:30.054641+00:00    Australia   \n",
       "\n",
       "                   last_order_ts            first_order_ts  total_orders  \\\n",
       "0      2020-04-19 00:00:00+00:00 2020-04-18 00:00:00+00:00             0   \n",
       "1      2020-04-19 00:00:00+00:00 2020-04-13 00:00:00+00:00             1   \n",
       "2      2020-04-19 00:00:00+00:00 2020-04-15 00:00:00+00:00             0   \n",
       "3      2020-04-19 00:00:00+00:00 2020-04-13 00:00:00+00:00             0   \n",
       "4      2020-04-19 00:00:00+00:00 2020-04-14 00:00:00+00:00             3   \n",
       "...                          ...                       ...           ...   \n",
       "511422 2020-01-04 00:00:00+00:00 2019-10-30 00:00:00+00:00            27   \n",
       "511423 2020-01-04 00:00:00+00:00 2019-08-29 00:00:00+00:00            10   \n",
       "511424 2020-01-04 00:00:00+00:00 2019-10-14 00:00:00+00:00            47   \n",
       "511425 2020-01-04 00:00:00+00:00 2019-09-24 00:00:00+00:00             2   \n",
       "511426 2020-01-04 00:00:00+00:00 2019-09-16 00:00:00+00:00             2   \n",
       "\n",
       "        voucher_amount  \n",
       "0                 5720  \n",
       "1                 8800  \n",
       "2                 1760  \n",
       "3                 1760  \n",
       "4                 8800  \n",
       "...                ...  \n",
       "511422            4400  \n",
       "511423            4400  \n",
       "511424            4400  \n",
       "511425           11000  \n",
       "511426           11000  \n",
       "\n",
       "[511427 rows x 6 columns]"
      ]
     },
     "metadata": {},
     "output_type": "display_data"
    }
   ],
   "source": [
    "# There doesn't seem to have any issue with rounding etc for conversion. So lets convert\n",
    "raw_df['voucher_amount'] = raw_df['voucher_amount'].apply(lambda x: int(float(x)))\n",
    "display(raw_df)"
   ]
  },
  {
   "cell_type": "code",
   "execution_count": 24,
   "metadata": {},
   "outputs": [
    {
     "name": "stdout",
     "output_type": "stream",
     "text": [
      "<class 'pandas.core.frame.DataFrame'>\n",
      "RangeIndex: 511427 entries, 0 to 511426\n",
      "Data columns (total 6 columns):\n",
      " #   Column          Non-Null Count   Dtype              \n",
      "---  ------          --------------   -----              \n",
      " 0   timestamp       511427 non-null  datetime64[ns, UTC]\n",
      " 1   country_code    511427 non-null  object             \n",
      " 2   last_order_ts   511427 non-null  datetime64[ns, UTC]\n",
      " 3   first_order_ts  511427 non-null  datetime64[ns, UTC]\n",
      " 4   total_orders    511427 non-null  int64              \n",
      " 5   voucher_amount  511427 non-null  int64              \n",
      "dtypes: datetime64[ns, UTC](3), int64(2), object(1)\n",
      "memory usage: 23.4+ MB\n"
     ]
    }
   ],
   "source": [
    "raw_df.info()"
   ]
  },
  {
   "cell_type": "markdown",
   "metadata": {},
   "source": [
    "## Lets check for Duplicate Records"
   ]
  },
  {
   "cell_type": "code",
   "execution_count": 25,
   "metadata": {},
   "outputs": [
    {
     "data": {
      "text/html": [
       "<div>\n",
       "<style scoped>\n",
       "    .dataframe tbody tr th:only-of-type {\n",
       "        vertical-align: middle;\n",
       "    }\n",
       "\n",
       "    .dataframe tbody tr th {\n",
       "        vertical-align: top;\n",
       "    }\n",
       "\n",
       "    .dataframe thead th {\n",
       "        text-align: right;\n",
       "    }\n",
       "</style>\n",
       "<table border=\"1\" class=\"dataframe\">\n",
       "  <thead>\n",
       "    <tr style=\"text-align: right;\">\n",
       "      <th></th>\n",
       "      <th>timestamp</th>\n",
       "      <th>country_code</th>\n",
       "      <th>last_order_ts</th>\n",
       "      <th>first_order_ts</th>\n",
       "      <th>total_orders</th>\n",
       "      <th>voucher_amount</th>\n",
       "    </tr>\n",
       "  </thead>\n",
       "  <tbody>\n",
       "    <tr>\n",
       "      <th>80534</th>\n",
       "      <td>2020-03-04 15:43:49.555721+00:00</td>\n",
       "      <td>China</td>\n",
       "      <td>2020-02-03 00:00:00+00:00</td>\n",
       "      <td>2019-01-24 00:00:00+00:00</td>\n",
       "      <td>21</td>\n",
       "      <td>8800</td>\n",
       "    </tr>\n",
       "    <tr>\n",
       "      <th>80544</th>\n",
       "      <td>2020-03-04 15:43:49.555721+00:00</td>\n",
       "      <td>China</td>\n",
       "      <td>2020-02-03 00:00:00+00:00</td>\n",
       "      <td>2019-01-24 00:00:00+00:00</td>\n",
       "      <td>21</td>\n",
       "      <td>8800</td>\n",
       "    </tr>\n",
       "    <tr>\n",
       "      <th>91323</th>\n",
       "      <td>2020-02-29 17:38:13.247885+00:00</td>\n",
       "      <td>Latvia</td>\n",
       "      <td>2019-11-30 00:00:00+00:00</td>\n",
       "      <td>2019-11-29 00:00:00+00:00</td>\n",
       "      <td>0</td>\n",
       "      <td>1540</td>\n",
       "    </tr>\n",
       "    <tr>\n",
       "      <th>91330</th>\n",
       "      <td>2020-02-29 17:38:13.247885+00:00</td>\n",
       "      <td>Latvia</td>\n",
       "      <td>2019-11-30 00:00:00+00:00</td>\n",
       "      <td>2019-11-29 00:00:00+00:00</td>\n",
       "      <td>0</td>\n",
       "      <td>1540</td>\n",
       "    </tr>\n",
       "    <tr>\n",
       "      <th>246897</th>\n",
       "      <td>2020-03-22 20:00:51.972777+00:00</td>\n",
       "      <td>China</td>\n",
       "      <td>2019-12-21 00:00:00+00:00</td>\n",
       "      <td>2019-12-21 00:00:00+00:00</td>\n",
       "      <td>136</td>\n",
       "      <td>5720</td>\n",
       "    </tr>\n",
       "    <tr>\n",
       "      <th>246904</th>\n",
       "      <td>2020-03-22 20:00:51.972777+00:00</td>\n",
       "      <td>China</td>\n",
       "      <td>2019-12-21 00:00:00+00:00</td>\n",
       "      <td>2019-12-21 00:00:00+00:00</td>\n",
       "      <td>136</td>\n",
       "      <td>5720</td>\n",
       "    </tr>\n",
       "    <tr>\n",
       "      <th>247234</th>\n",
       "      <td>2020-03-22 18:51:40.516382+00:00</td>\n",
       "      <td>Latvia</td>\n",
       "      <td>2019-12-21 00:00:00+00:00</td>\n",
       "      <td>2019-05-01 00:00:00+00:00</td>\n",
       "      <td>0</td>\n",
       "      <td>13200</td>\n",
       "    </tr>\n",
       "    <tr>\n",
       "      <th>247308</th>\n",
       "      <td>2020-03-22 18:51:40.516382+00:00</td>\n",
       "      <td>Latvia</td>\n",
       "      <td>2019-12-21 00:00:00+00:00</td>\n",
       "      <td>2019-05-01 00:00:00+00:00</td>\n",
       "      <td>0</td>\n",
       "      <td>13200</td>\n",
       "    </tr>\n",
       "    <tr>\n",
       "      <th>248302</th>\n",
       "      <td>2020-03-22 20:15:54.378140+00:00</td>\n",
       "      <td>Latvia</td>\n",
       "      <td>2019-12-21 00:00:00+00:00</td>\n",
       "      <td>2019-12-21 00:00:00+00:00</td>\n",
       "      <td>136</td>\n",
       "      <td>4400</td>\n",
       "    </tr>\n",
       "    <tr>\n",
       "      <th>248312</th>\n",
       "      <td>2020-03-22 20:15:54.514202+00:00</td>\n",
       "      <td>Latvia</td>\n",
       "      <td>2019-12-21 00:00:00+00:00</td>\n",
       "      <td>2019-12-21 00:00:00+00:00</td>\n",
       "      <td>136</td>\n",
       "      <td>4400</td>\n",
       "    </tr>\n",
       "    <tr>\n",
       "      <th>248399</th>\n",
       "      <td>2020-03-22 20:15:54.378140+00:00</td>\n",
       "      <td>Latvia</td>\n",
       "      <td>2019-12-21 00:00:00+00:00</td>\n",
       "      <td>2019-12-21 00:00:00+00:00</td>\n",
       "      <td>136</td>\n",
       "      <td>4400</td>\n",
       "    </tr>\n",
       "    <tr>\n",
       "      <th>248405</th>\n",
       "      <td>2020-03-22 20:15:54.514202+00:00</td>\n",
       "      <td>Latvia</td>\n",
       "      <td>2019-12-21 00:00:00+00:00</td>\n",
       "      <td>2019-12-21 00:00:00+00:00</td>\n",
       "      <td>136</td>\n",
       "      <td>4400</td>\n",
       "    </tr>\n",
       "    <tr>\n",
       "      <th>250495</th>\n",
       "      <td>2020-03-22 20:06:53.068799+00:00</td>\n",
       "      <td>Australia</td>\n",
       "      <td>2019-12-21 00:00:00+00:00</td>\n",
       "      <td>2019-12-12 00:00:00+00:00</td>\n",
       "      <td>47</td>\n",
       "      <td>11000</td>\n",
       "    </tr>\n",
       "    <tr>\n",
       "      <th>250508</th>\n",
       "      <td>2020-03-22 20:08:12.988948+00:00</td>\n",
       "      <td>Australia</td>\n",
       "      <td>2019-12-21 00:00:00+00:00</td>\n",
       "      <td>2019-12-12 00:00:00+00:00</td>\n",
       "      <td>47</td>\n",
       "      <td>11000</td>\n",
       "    </tr>\n",
       "    <tr>\n",
       "      <th>250514</th>\n",
       "      <td>2020-03-22 20:08:12.988948+00:00</td>\n",
       "      <td>Australia</td>\n",
       "      <td>2019-12-21 00:00:00+00:00</td>\n",
       "      <td>2019-12-12 00:00:00+00:00</td>\n",
       "      <td>47</td>\n",
       "      <td>11000</td>\n",
       "    </tr>\n",
       "    <tr>\n",
       "      <th>250517</th>\n",
       "      <td>2020-03-22 20:06:53.068799+00:00</td>\n",
       "      <td>Australia</td>\n",
       "      <td>2019-12-21 00:00:00+00:00</td>\n",
       "      <td>2019-12-12 00:00:00+00:00</td>\n",
       "      <td>47</td>\n",
       "      <td>11000</td>\n",
       "    </tr>\n",
       "    <tr>\n",
       "      <th>251050</th>\n",
       "      <td>2020-03-22 19:12:51.059008+00:00</td>\n",
       "      <td>China</td>\n",
       "      <td>2019-12-21 00:00:00+00:00</td>\n",
       "      <td>2018-03-09 00:00:00+00:00</td>\n",
       "      <td>48</td>\n",
       "      <td>4400</td>\n",
       "    </tr>\n",
       "    <tr>\n",
       "      <th>251095</th>\n",
       "      <td>2020-03-22 19:12:51.059008+00:00</td>\n",
       "      <td>China</td>\n",
       "      <td>2019-12-21 00:00:00+00:00</td>\n",
       "      <td>2018-03-09 00:00:00+00:00</td>\n",
       "      <td>48</td>\n",
       "      <td>4400</td>\n",
       "    </tr>\n",
       "    <tr>\n",
       "      <th>251103</th>\n",
       "      <td>2020-03-22 19:14:10.188515+00:00</td>\n",
       "      <td>China</td>\n",
       "      <td>2019-12-21 00:00:00+00:00</td>\n",
       "      <td>2018-03-09 00:00:00+00:00</td>\n",
       "      <td>48</td>\n",
       "      <td>4400</td>\n",
       "    </tr>\n",
       "    <tr>\n",
       "      <th>251123</th>\n",
       "      <td>2020-03-22 19:14:10.188515+00:00</td>\n",
       "      <td>China</td>\n",
       "      <td>2019-12-21 00:00:00+00:00</td>\n",
       "      <td>2018-03-09 00:00:00+00:00</td>\n",
       "      <td>48</td>\n",
       "      <td>4400</td>\n",
       "    </tr>\n",
       "    <tr>\n",
       "      <th>326660</th>\n",
       "      <td>2020-04-21 17:02:22.915765+00:00</td>\n",
       "      <td>Peru</td>\n",
       "      <td>2020-01-22 00:00:00+00:00</td>\n",
       "      <td>2020-01-22 00:00:00+00:00</td>\n",
       "      <td>136</td>\n",
       "      <td>4400</td>\n",
       "    </tr>\n",
       "    <tr>\n",
       "      <th>326685</th>\n",
       "      <td>2020-04-21 17:02:22.915765+00:00</td>\n",
       "      <td>Peru</td>\n",
       "      <td>2020-01-22 00:00:00+00:00</td>\n",
       "      <td>2020-01-22 00:00:00+00:00</td>\n",
       "      <td>136</td>\n",
       "      <td>4400</td>\n",
       "    </tr>\n",
       "    <tr>\n",
       "      <th>326693</th>\n",
       "      <td>2020-04-21 17:04:55.965673+00:00</td>\n",
       "      <td>Peru</td>\n",
       "      <td>2020-01-22 00:00:00+00:00</td>\n",
       "      <td>2020-01-22 00:00:00+00:00</td>\n",
       "      <td>136</td>\n",
       "      <td>4400</td>\n",
       "    </tr>\n",
       "    <tr>\n",
       "      <th>326804</th>\n",
       "      <td>2020-04-21 17:04:55.965673+00:00</td>\n",
       "      <td>Peru</td>\n",
       "      <td>2020-01-22 00:00:00+00:00</td>\n",
       "      <td>2020-01-22 00:00:00+00:00</td>\n",
       "      <td>136</td>\n",
       "      <td>4400</td>\n",
       "    </tr>\n",
       "  </tbody>\n",
       "</table>\n",
       "</div>"
      ],
      "text/plain": [
       "                              timestamp country_code  \\\n",
       "80534  2020-03-04 15:43:49.555721+00:00        China   \n",
       "80544  2020-03-04 15:43:49.555721+00:00        China   \n",
       "91323  2020-02-29 17:38:13.247885+00:00       Latvia   \n",
       "91330  2020-02-29 17:38:13.247885+00:00       Latvia   \n",
       "246897 2020-03-22 20:00:51.972777+00:00        China   \n",
       "246904 2020-03-22 20:00:51.972777+00:00        China   \n",
       "247234 2020-03-22 18:51:40.516382+00:00       Latvia   \n",
       "247308 2020-03-22 18:51:40.516382+00:00       Latvia   \n",
       "248302 2020-03-22 20:15:54.378140+00:00       Latvia   \n",
       "248312 2020-03-22 20:15:54.514202+00:00       Latvia   \n",
       "248399 2020-03-22 20:15:54.378140+00:00       Latvia   \n",
       "248405 2020-03-22 20:15:54.514202+00:00       Latvia   \n",
       "250495 2020-03-22 20:06:53.068799+00:00    Australia   \n",
       "250508 2020-03-22 20:08:12.988948+00:00    Australia   \n",
       "250514 2020-03-22 20:08:12.988948+00:00    Australia   \n",
       "250517 2020-03-22 20:06:53.068799+00:00    Australia   \n",
       "251050 2020-03-22 19:12:51.059008+00:00        China   \n",
       "251095 2020-03-22 19:12:51.059008+00:00        China   \n",
       "251103 2020-03-22 19:14:10.188515+00:00        China   \n",
       "251123 2020-03-22 19:14:10.188515+00:00        China   \n",
       "326660 2020-04-21 17:02:22.915765+00:00         Peru   \n",
       "326685 2020-04-21 17:02:22.915765+00:00         Peru   \n",
       "326693 2020-04-21 17:04:55.965673+00:00         Peru   \n",
       "326804 2020-04-21 17:04:55.965673+00:00         Peru   \n",
       "\n",
       "                   last_order_ts            first_order_ts  total_orders  \\\n",
       "80534  2020-02-03 00:00:00+00:00 2019-01-24 00:00:00+00:00            21   \n",
       "80544  2020-02-03 00:00:00+00:00 2019-01-24 00:00:00+00:00            21   \n",
       "91323  2019-11-30 00:00:00+00:00 2019-11-29 00:00:00+00:00             0   \n",
       "91330  2019-11-30 00:00:00+00:00 2019-11-29 00:00:00+00:00             0   \n",
       "246897 2019-12-21 00:00:00+00:00 2019-12-21 00:00:00+00:00           136   \n",
       "246904 2019-12-21 00:00:00+00:00 2019-12-21 00:00:00+00:00           136   \n",
       "247234 2019-12-21 00:00:00+00:00 2019-05-01 00:00:00+00:00             0   \n",
       "247308 2019-12-21 00:00:00+00:00 2019-05-01 00:00:00+00:00             0   \n",
       "248302 2019-12-21 00:00:00+00:00 2019-12-21 00:00:00+00:00           136   \n",
       "248312 2019-12-21 00:00:00+00:00 2019-12-21 00:00:00+00:00           136   \n",
       "248399 2019-12-21 00:00:00+00:00 2019-12-21 00:00:00+00:00           136   \n",
       "248405 2019-12-21 00:00:00+00:00 2019-12-21 00:00:00+00:00           136   \n",
       "250495 2019-12-21 00:00:00+00:00 2019-12-12 00:00:00+00:00            47   \n",
       "250508 2019-12-21 00:00:00+00:00 2019-12-12 00:00:00+00:00            47   \n",
       "250514 2019-12-21 00:00:00+00:00 2019-12-12 00:00:00+00:00            47   \n",
       "250517 2019-12-21 00:00:00+00:00 2019-12-12 00:00:00+00:00            47   \n",
       "251050 2019-12-21 00:00:00+00:00 2018-03-09 00:00:00+00:00            48   \n",
       "251095 2019-12-21 00:00:00+00:00 2018-03-09 00:00:00+00:00            48   \n",
       "251103 2019-12-21 00:00:00+00:00 2018-03-09 00:00:00+00:00            48   \n",
       "251123 2019-12-21 00:00:00+00:00 2018-03-09 00:00:00+00:00            48   \n",
       "326660 2020-01-22 00:00:00+00:00 2020-01-22 00:00:00+00:00           136   \n",
       "326685 2020-01-22 00:00:00+00:00 2020-01-22 00:00:00+00:00           136   \n",
       "326693 2020-01-22 00:00:00+00:00 2020-01-22 00:00:00+00:00           136   \n",
       "326804 2020-01-22 00:00:00+00:00 2020-01-22 00:00:00+00:00           136   \n",
       "\n",
       "        voucher_amount  \n",
       "80534             8800  \n",
       "80544             8800  \n",
       "91323             1540  \n",
       "91330             1540  \n",
       "246897            5720  \n",
       "246904            5720  \n",
       "247234           13200  \n",
       "247308           13200  \n",
       "248302            4400  \n",
       "248312            4400  \n",
       "248399            4400  \n",
       "248405            4400  \n",
       "250495           11000  \n",
       "250508           11000  \n",
       "250514           11000  \n",
       "250517           11000  \n",
       "251050            4400  \n",
       "251095            4400  \n",
       "251103            4400  \n",
       "251123            4400  \n",
       "326660            4400  \n",
       "326685            4400  \n",
       "326693            4400  \n",
       "326804            4400  "
      ]
     },
     "metadata": {},
     "output_type": "display_data"
    }
   ],
   "source": [
    "is_duplicate = raw_df.duplicated(keep=False)\n",
    "\n",
    "display(raw_df[is_duplicate])"
   ]
  },
  {
   "cell_type": "markdown",
   "metadata": {},
   "source": [
    "So we have 12 Duplicate records in our dataset. Lets remove it and complete the data cleansing"
   ]
  },
  {
   "cell_type": "code",
   "execution_count": 26,
   "metadata": {},
   "outputs": [],
   "source": [
    "# We have total of 24 records. We will keep first record and remove others\n",
    "\n",
    "processed_df = raw_df.drop_duplicates(inplace=False)"
   ]
  },
  {
   "cell_type": "code",
   "execution_count": 27,
   "metadata": {},
   "outputs": [
    {
     "data": {
      "text/plain": [
       "0"
      ]
     },
     "execution_count": 27,
     "metadata": {},
     "output_type": "execute_result"
    }
   ],
   "source": [
    "processed_df.duplicated().sum()"
   ]
  },
  {
   "cell_type": "markdown",
   "metadata": {},
   "source": [
    "# Cleaned DF"
   ]
  },
  {
   "cell_type": "code",
   "execution_count": 28,
   "metadata": {},
   "outputs": [
    {
     "name": "stdout",
     "output_type": "stream",
     "text": [
      "<class 'pandas.core.frame.DataFrame'>\n",
      "Int64Index: 511415 entries, 0 to 511426\n",
      "Data columns (total 6 columns):\n",
      " #   Column          Non-Null Count   Dtype              \n",
      "---  ------          --------------   -----              \n",
      " 0   timestamp       511415 non-null  datetime64[ns, UTC]\n",
      " 1   country_code    511415 non-null  object             \n",
      " 2   last_order_ts   511415 non-null  datetime64[ns, UTC]\n",
      " 3   first_order_ts  511415 non-null  datetime64[ns, UTC]\n",
      " 4   total_orders    511415 non-null  int64              \n",
      " 5   voucher_amount  511415 non-null  int64              \n",
      "dtypes: datetime64[ns, UTC](3), int64(2), object(1)\n",
      "memory usage: 27.3+ MB\n"
     ]
    }
   ],
   "source": [
    "processed_df.info()"
   ]
  },
  {
   "cell_type": "markdown",
   "metadata": {},
   "source": [
    "### Check if valid value\n",
    "\n",
    "`Last Order Timestamp` cannot be before `First Order Timestamp`. So lets check for this condition and remove any invalid records"
   ]
  },
  {
   "cell_type": "code",
   "execution_count": 29,
   "metadata": {},
   "outputs": [
    {
     "data": {
      "text/plain": [
       "timestamp         0\n",
       "country_code      0\n",
       "last_order_ts     0\n",
       "first_order_ts    0\n",
       "total_orders      0\n",
       "voucher_amount    0\n",
       "dtype: int64"
      ]
     },
     "execution_count": 29,
     "metadata": {},
     "output_type": "execute_result"
    }
   ],
   "source": [
    "is_wrong = processed_df[\"last_order_ts\"] < processed_df[\"first_order_ts\"]\n",
    "\n",
    "processed_df[is_wrong].count()"
   ]
  },
  {
   "cell_type": "code",
   "execution_count": 30,
   "metadata": {},
   "outputs": [],
   "source": [
    "processed_df.to_csv(\"../data/processed/clean_data.csv\", encoding=\"UTF-8\", index=False)"
   ]
  },
  {
   "cell_type": "markdown",
   "metadata": {},
   "source": [
    "# Summary\n",
    "\n",
    "Data had following issue identified:\n",
    "\n",
    "* Empty string values in `total_order` column and was of Object Type\n",
    "* Timestamp fields like `last_order_ts` and `timestamp` where of Object type\n",
    "* Duplicate records found : 24\n",
    "* `Nan` values in `voucher_amount` field\n",
    "\n",
    "Exploratory Resolution Applied:\n",
    "* Empty string values in `total_order` field replaced with `0` and converted to `int` from `object`\n",
    "* All timestamp fields converted to `datetime64[ns, UTC]` datetime format \n",
    "* Deduplicated the records and kept the first occurence\n",
    "* `voucher_amount` field converted from `object` to `int` and replaced `NaN` with `0`"
   ]
  },
  {
   "cell_type": "markdown",
   "metadata": {},
   "source": []
  }
 ],
 "metadata": {
  "kernelspec": {
   "display_name": "Python 3.9.2 ('venv': venv)",
   "language": "python",
   "name": "python3"
  },
  "language_info": {
   "codemirror_mode": {
    "name": "ipython",
    "version": 3
   },
   "file_extension": ".py",
   "mimetype": "text/x-python",
   "name": "python",
   "nbconvert_exporter": "python",
   "pygments_lexer": "ipython3",
   "version": "3.9.2"
  },
  "orig_nbformat": 4,
  "vscode": {
   "interpreter": {
    "hash": "5fe76d77b4f9e25fc328b4bd181c4c3326d339af20f7e790b2f4ea76f7718aa4"
   }
  }
 },
 "nbformat": 4,
 "nbformat_minor": 2
}
